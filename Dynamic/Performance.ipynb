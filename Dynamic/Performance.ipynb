{
 "cells": [
  {
   "cell_type": "code",
   "execution_count": 2,
   "metadata": {},
   "outputs": [],
   "source": [
    "import numpy as np\n",
    "import matplotlib.pyplot as plt\n",
    "import xlrd\n",
    "%matplotlib inline"
   ]
  },
  {
   "cell_type": "code",
   "execution_count": 8,
   "metadata": {
    "scrolled": false
   },
   "outputs": [
    {
     "data": {
      "image/png": "[encoded data removed]",
      "text/plain": [
       "<matplotlib.figure.Figure at 0x26337050a58>"
      ]
     },
     "metadata": {},
     "output_type": "display_data"
    }
   ],
   "source": [
    "RMSE = list()\n",
    "MAPE = list()\n",
    "MAE = list()\n",
    "\n",
    "flag_1 = 0\n",
    "flag_2 = 1\n",
    "flag_3 = 2\n",
    "for i in range(4):\n",
    "    data = xlrd.open_workbook('Performance.xlsx')\n",
    "    table = data.sheets()[0]\n",
    "    RMSE.append(table.col_values(flag_1))\n",
    "    flag_1 += 3\n",
    "    MAPE.append(table.col_values(flag_2))\n",
    "    flag_2 += 3\n",
    "    MAE.append(table.col_values(flag_3))\n",
    "    flag_3 += 3\n",
    "\n",
    "def normalize(data):\n",
    "    d_min = min(data)\n",
    "    d_max = max(data)\n",
    "    for i in range(len(data)):\n",
    "        data[i] = (data[i]-d_min)/(d_max-d_min)\n",
    "    return data\n",
    "\n",
    "\n",
    "figsize = (15,10)\n",
    "figure_1,ax_1 = plt.subplots(figsize = figsize)\n",
    "font1 = {'family' : 'Times New Roman',  \n",
    "    'weight' : 'normal',  \n",
    "    'size'   : 20,  \n",
    "    }  \n",
    "\n",
    "plt.tick_params(labelsize=20)  \n",
    "labels = ax_1.get_xticklabels() + ax_1.get_yticklabels()  \n",
    "[label.set_fontname('Times New Roman') for label in labels]  \n",
    "#plt.yticks((np.arange(7)+1)*0.05,('5%','10%','15%','20%','25%','30%','35%'))\n",
    "font2 = {'family' : 'Times New Roman',  \n",
    "    'weight' : 'normal',  \n",
    "    'size'   : 30,  \n",
    "    }  \n",
    "\n",
    "CDF = list()\n",
    "handle = [0,0,0,0]\n",
    "model = ['One Layer LSTM','Deep LSTM','DRN','DIDRN']\n",
    "color = ['b','g','c']\n",
    "for i in range(4):\n",
    "    #d_max = max(max(MAE))\n",
    "    #d_min = min(min(MAE))\n",
    "    #X = (np.array(MAE[i])-d_min)/(d_max-d_min)\n",
    "   # X.sort()\n",
    "    X = np.array(MAE[i])\n",
    "    Z = (X-X.min())/(X.max()-X.min())\n",
    "    Z.sort()\n",
    "    Y = np.divide(Z,sum(Z))\n",
    "    CDF.append(np.cumsum(Y))\n",
    "    if i !=3:\n",
    "        handle[i], = plt.step(Z,CDF[i],color[i],label = model[i],lw = 1)\n",
    "    else:\n",
    "        handle[i], = plt.step(Z,CDF[i],'r',label = model[i],lw = 4)\n",
    "    plt.xlabel('MAE',font2)\n",
    "    plt.ylabel('CDF',font2)\n",
    "plt.legend(handles = handle,prop = font1)\n",
    "plt.savefig('MAE_2.png',dpi = 100)"
   ]
  },
  {
   "cell_type": "code",
   "execution_count": 7,
   "metadata": {},
   "outputs": [
    {
     "data": {
      "text/plain": [
       "array([0.45056951, 0.45219352, 1.        , 0.84590569, 0.5031456 ,\n",
       "       0.3476655 , 0.20512264, 0.68411789, 0.27131645, 0.16105559,\n",
       "       0.72475304, 0.        , 0.74668693, 0.15723173])"
      ]
     },
     "execution_count": 7,
     "metadata": {},
     "output_type": "execute_result"
    }
   ],
   "source": [
    "Z"
   ]
  },
  {
   "cell_type": "code",
   "execution_count": 27,
   "metadata": {},
   "outputs": [
    {
     "data": {
      "text/plain": [
       "0.021762764731052986"
      ]
     },
     "execution_count": 27,
     "metadata": {},
     "output_type": "execute_result"
    }
   ],
   "source": [
    "RMSE = list()\n",
    "MAPE = list()\n",
    "MAE = list()\n",
    "\n",
    "flag_1 = 0\n",
    "flag_2 = 1\n",
    "flag_3 = 2\n",
    "for i in range(4):\n",
    "    data = xlrd.open_workbook('Performance.xlsx')\n",
    "    table = data.sheets()[0]\n",
    "    RMSE.append(table.col_values(flag_1))\n",
    "    flag_1 += 3\n",
    "    MAPE.append(table.col_values(flag_2))\n",
    "    flag_2 += 3\n",
    "    MAE.append(table.col_values(flag_3))\n",
    "    flag_3 += 3\n",
    "\n",
    "max(np.array(MAPE[2])-np.array(MAPE[3]))"
   ]
  },
  {
   "cell_type": "code",
   "execution_count": 19,
   "metadata": {},
   "outputs": [
    {
     "name": "stdout",
     "output_type": "stream",
     "text": [
      "Help on function yticks in module matplotlib.pyplot:\n",
      "\n",
      "yticks(*args, **kwargs)\n",
      "    Get or set the *y*-limits of the current tick locations and labels.\n",
      "    \n",
      "    ::\n",
      "    \n",
      "      # return locs, labels where locs is an array of tick locations and\n",
      "      # labels is an array of tick labels.\n",
      "      locs, labels = yticks()\n",
      "    \n",
      "      # set the locations of the yticks\n",
      "      yticks( arange(6) )\n",
      "    \n",
      "      # set the locations and labels of the yticks\n",
      "      yticks( arange(5), ('Tom', 'Dick', 'Harry', 'Sally', 'Sue') )\n",
      "    \n",
      "    The keyword args, if any, are :class:`~matplotlib.text.Text`\n",
      "    properties. For example, to rotate long labels::\n",
      "    \n",
      "      yticks( arange(12), calendar.month_name[1:13], rotation=45 )\n",
      "\n"
     ]
    }
   ],
   "source": [
    "help(plt.yticks)"
   ]
  },
  {
   "cell_type": "code",
   "execution_count": null,
   "metadata": {},
   "outputs": [],
   "source": []
  }
 ],
 "metadata": {
  "kernelspec": {
   "display_name": "Python 3",
   "language": "python",
   "name": "python3"
  },
  "language_info": {
   "codemirror_mode": {
    "name": "ipython",
    "version": 3
   },
   "file_extension": ".py",
   "mimetype": "text/x-python",
   "name": "python",
   "nbconvert_exporter": "python",
   "pygments_lexer": "ipython3",
   "version": "3.6.5"
  }
 },
 "nbformat": 4,
 "nbformat_minor": 2
}
