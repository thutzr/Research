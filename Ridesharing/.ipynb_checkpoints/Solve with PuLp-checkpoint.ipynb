{
 "cells": [
  {
   "cell_type": "code",
   "execution_count": null,
   "metadata": {},
   "outputs": [],
   "source": [
    "import pulp as plp\n",
    "\n",
    "model = plp.LpProblem('Ride Sharing',plp.LpMaximize)\n",
    "\n",
    "c_plp = plp.LpVariable.dicts('vehicle_trip',vehicle_trip,\n",
    "                           lowBound = 0,\n",
    "                           upBound = 1,\n",
    "                           cat = plp.LpInteger)\n",
    "pv_plp = plp.LpVariable.dicts('passen_vehicle_pair',passen_vehicles_pair,\n",
    "                        lowBound = 0,\n",
    "                        upBound = 1,\n",
    "                        cat = plp.LpInteger)\n",
    "\n",
    "for j in trips:\n",
    "    for p in trips_passenger[j]:\n",
    "        for k in trips:\n",
    "            if k != j:\n",
    "                if p in trips_passenger[k]:\n",
    "                    model += plp.lpSum(c_plp[i,j] for i in TV[j])+plp.lpSum(c_plp[s,k] for s in TV[k])==1\n",
    "                    \n",
    "model += plp.lpSum(w[i,j] * c_plp[i,j] for i,j in vehicle_trip)\n",
    "\n",
    "for i in vehicles:\n",
    "    model += plp.lpSum(c_plp[i,j] for j in VT[i])<=1\n",
    "for i in vehicles:\n",
    "    model += plp.lpSum(c_plp[i,j] for j in VT[i])<=1\n",
    "for j in vehicles:\n",
    "    if VP[j]!=[]:\n",
    "        model += plp.lpSum(pv_plp[i,j] for i in VP[j])<=capacity\n",
    "for i in BB.P:\n",
    "    model += plp.lpSum(pv_plp[i,j] for j in PV[i])<=1\n",
    "\n",
    "model.solve()\n",
    "for i,j in vehicle_trip:\n",
    "    if c_plp[i,j] == 1.0:\n",
    "        print(i,j)"
   ]
  }
 ],
 "metadata": {
  "kernelspec": {
   "display_name": "Python 3",
   "language": "python",
   "name": "python3"
  },
  "language_info": {
   "codemirror_mode": {
    "name": "ipython",
    "version": 3
   },
   "file_extension": ".py",
   "mimetype": "text/x-python",
   "name": "python",
   "nbconvert_exporter": "python",
   "pygments_lexer": "ipython3",
   "version": "3.6.5"
  }
 },
 "nbformat": 4,
 "nbformat_minor": 2
}
