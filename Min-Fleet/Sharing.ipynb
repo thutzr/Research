{
 "cells": [
  {
   "cell_type": "code",
   "execution_count": 1,
   "metadata": {},
   "outputs": [],
   "source": [
    "import numpy as np\n",
    "import pandas as pd\n",
    "from datetime import datetime\n",
    "\n",
    "import networkx as nx\n",
    "from networkx.algorithms import bipartite, matching\n",
    "import multiprocessing"
   ]
  },
  {
   "cell_type": "code",
   "execution_count": 2,
   "metadata": {},
   "outputs": [],
   "source": [
    "class Node():\n",
    "    def __init__(self, inter,ID):\n",
    "        '''\n",
    "        para::\n",
    "            inter: the intersection where the node is located\n",
    "        '''\n",
    "        self.inter = inter\n",
    "        self.id = ID\n",
    "\n",
    "class Path():\n",
    "    def __init__(self, nodelist):\n",
    "        self.nodeList = nodelist\n",
    "        self.len = len(nodelist)\n",
    "    \n",
    "    def append(self, node):\n",
    "        self.nodeList.append(node)\n",
    "        self.len += 1\n",
    "    \n",
    "    def travelTimePath(self):\n",
    "        t = 0\n",
    "        for i in range(self.len-1):\n",
    "            t += travelTime(self.nodeList[i], self.nodeList[i+1])\n",
    "        return t\n",
    "        \n",
    "class Trip():\n",
    "    def __init__(self, oneTripData):\n",
    "        '''\n",
    "        parameters::\n",
    "            o_inter: the intersection of the origin of this trip\n",
    "            d_inter: the intersection of the destination of this trip\n",
    "            o_time: the expected departure time of the trip\n",
    "            d_time: the expected arrival time of the trip\n",
    "        '''\n",
    "        self.node_o = Node(oneTripData['ointer'], oneTripData.name)\n",
    "        self.node_d = Node(oneTripData['dinter'], oneTripData.name)\n",
    "        self.ointer = self.node_o.inter\n",
    "        self.dinter = self.node_d.inter\n",
    "        self.oTime = oneTripData['otime']\n",
    "        self.dTime = oneTripData['dtime']\n",
    "        self.id = oneTripData.name\n",
    "\n",
    "# This function calculate the distance between the origin and destination of two trips \n",
    "# def odDistance(trip_1, trip_2):\n",
    "#     '''\n",
    "#     Input:\n",
    "#         trip_1, trip_2: two instances of class Trip\n",
    "#     Output:\n",
    "#         oDis: the distance of these two trips' origin\n",
    "#         dDis: the distance of these two trips' destination\n",
    "#     return:\n",
    "#         a tuple (oDis, dDis)\n",
    "#     '''\n",
    "#     o_a = trip_1.oLong - trip_2.oLong\n",
    "#     o_b = trip_1.oLati - trip_2.oLati\n",
    "#     oDis = 2*np.arcsin(np.sin(o_b/2)**2 \n",
    "#                        + np.cos(trip_1.oLati)*np.cos(trip_2.oLati)*np.sin(o_a/2)**2)*6378.137\n",
    "#     d_a = trip_1.dLong - trip_2.dLong\n",
    "#     d_b = trip_1.dLati - trip_2.dLati\n",
    "#     dDis = 2*np.arcsin(np.sin(d_b/2)**2 \n",
    "#                        + np.cos(trip_1.dLati)*np.cos(trip_2.dLati)*np.sin(d_a/2)**2)*6378.137\n",
    "#     return (oDis, dDis)\n",
    "\n",
    "    \n",
    "def travelTime(node_1, node_2):\n",
    "    '''\n",
    "    parameters::\n",
    "        distanceMatrixDict:\n",
    "        node_1:\n",
    "        node_2:\n",
    "    return:\n",
    "        \n",
    "    '''\n",
    "    return distanceMatrixDict[(node_1.inter, node_2.inter)]['time']\n",
    "\n",
    "def isSharable(Trip_1, Trip_2, timePenalty = 600, distancePenalty = 1.2, coveragePenalty = 0.6):\n",
    "    '''\n",
    "    Input:\n",
    "        trip_1, trip_2: two instances of class Trip\n",
    "    Output:\n",
    "        \n",
    "    return:\n",
    "        \n",
    "    '''\n",
    "    if (Trip_1.oTime > Trip_2.oTime):\n",
    "        trip_1 = Trip_2\n",
    "        trip_2 = Trip_1\n",
    "    else:\n",
    "        trip_1 = Trip_1\n",
    "        trip_2 = Trip_2\n",
    "    # case 1\n",
    "    if (trip_1.dTime > trip_2.dTime):\n",
    "        if(trip_1.oTime + travelTime(trip_1.node_o, trip_2.node_o) < trip_2.oTime):\n",
    "            path1 = Path([trip_1.node_o, trip_2.node_o, trip_2.node_d, trip_1.node_d])\n",
    "            if(trip_1.dTime-timePenalty < trip_1.oTime+path1.travelTimePath() < trip_1.dTime):\n",
    "                path2 = Path([trip_1.node_o, trip_2.node_o, trip_2.node_d])\n",
    "                if(trip_1.dTime-timePenalty < trip_1.oTime+path2.travelTimePath() < trip_1.dTime):\n",
    "                    if(path1.travelTimePath() < distancePenalty*travelTime(trip_1.node_o, trip_1.node_d)):\n",
    "                        return True\n",
    "                    else:\n",
    "                        return False\n",
    "                else:\n",
    "                    return False\n",
    "            else:\n",
    "                return False\n",
    "        else:\n",
    "            return False\n",
    "    else:\n",
    "        if (trip_2.oTime < trip_1.dTime < trip_2.dTime):\n",
    "            if(trip_1.oTime + travelTime(trip_1.node_o, trip_2.node_o) < trip_2.oTime):\n",
    "                path1 = Path([trip_1.node_o, trip_2.node_o, trip_1.node_d])\n",
    "                if(trip_1.dTime-timePenalty < trip_1.oTime+path1.travelTimePath() < trip_1.dTime):\n",
    "                    path2 = Path([trip_1.node_o, trip_2.node_o, trip_1.node_d, trip_2.node_d])\n",
    "                    if(trip_2.dTime-timePenalty < trip_1.oTime+path2.travelTimePath() < trip_2.dTime):\n",
    "                        if(path1.travelTimePath() < distancePenalty*travelTime(trip_1.node_o, trip_1.node_d)):\n",
    "                            path3 = Path([trip_2.node_o, trip_1.node_d, trip_2.node_d])\n",
    "                            if(path3.travelTimePath() < distancePenalty*travelTime(trip_2.node_o, trip_2.node_d)):\n",
    "                                if(travelTime(trip_1.node_o, trip_2.node_o) < coveragePenalty*travelTime(trip_1.node_o, trip_1.node_d)):\n",
    "                                    return True\n",
    "                            else:\n",
    "                                return False\n",
    "                        else:\n",
    "                            return False\n",
    "                    else:\n",
    "                        return False\n",
    "                else:\n",
    "                    return False\n",
    "            else:\n",
    "                return False\n",
    "        else:\n",
    "            return False\n",
    "    return False\n",
    "\n",
    "class TripEdge():\n",
    "    def __init__(self, pre_node, suc_node, weight):\n",
    "        self.node_1 = pre_node\n",
    "        self.node_2 = suc_node\n",
    "        self.w = weight\n",
    "        self.edge = (self.node_1, self.node_2, self.w)\n",
    "        \n",
    "def addTrip(i, tripData):\n",
    "    trip_list = [Trip(tripData.iloc[i])]\n",
    "    return trip_list\n",
    "    \n",
    "def generateTripList(tripData):\n",
    "    cores = multiprocessing.cpu_count()\n",
    "    pool = multiprocessing.Pool(processes = cores-2)\n",
    "    trip_list = []\n",
    "    for trips in pool.starmap(addTrip, zip(range(len(tripData)), [tripData]*len(tripData))):\n",
    "        trip_list += trips\n",
    "    pool.close()\n",
    "    return trip_list\n",
    "\n",
    "def addEdge(i,trip_list):\n",
    "    trip_edges = []\n",
    "    for j in range(i+1, len(trip_list)):\n",
    "        if isSharable(trip_list[i], trip_list[j]):\n",
    "            weight = 1\n",
    "            trip_edges.append((trip_list[i].id,trip_list[j].id))\n",
    "    return trip_edges\n",
    "\n",
    "def generateTripEdgeList(trip_list):\n",
    "    cores = multiprocessing.cpu_count()\n",
    "    pool = multiprocessing.Pool(processes = cores-2)\n",
    "    trip_edge_list = []\n",
    "    for trip_edge in pool.starmap(addEdge,zip(range(len(trip_list)-1),[trip_list]*(len(trip_list)-1))):\n",
    "        trip_edge_list += trip_edge\n",
    "    pool.close()\n",
    "    return trip_edge_list\n",
    "                \n",
    "class TripGraph():\n",
    "    def __init__(self, trip_edge_list):\n",
    "        self.trip_edge_list = trip_edge_list\n",
    "        self.num_trips = len(trip_edge_list)\n",
    "        self.g = nx.Graph()\n",
    "        self.g.add_edges_from(self.trip_edge_list,weight=1)\n",
    "        \n",
    "    def addTripEdge(self, trip_edge):\n",
    "        self.trip_edge_list.append(trip_edge)\n",
    "        self.num_trips += 1\n",
    "\n",
    "    def maxMatching(self):\n",
    "        graphs = list(nx.connected_component_subgraphs(self.g))\n",
    "        self.matches = {}\n",
    "        for graph in graphs:\n",
    "            self.matches.update(matching.max_weight_matching(graph))\n",
    "        self.number_match = len(self.matches)\n",
    "        return (self.number_match, self.matches)\n",
    "    \n",
    "    def minFleeting(self):\n",
    "        return self.number_match"
   ]
  },
  {
   "cell_type": "code",
   "execution_count": 1,
   "metadata": {},
   "outputs": [
    {
     "ename": "NameError",
     "evalue": "name 'datetime' is not defined",
     "output_type": "error",
     "traceback": [
      "\u001b[0;31m---------------------------------------------------------------------------\u001b[0m",
      "\u001b[0;31mNameError\u001b[0m                                 Traceback (most recent call last)",
      "\u001b[0;32m<ipython-input-1-eaf858d4856b>\u001b[0m in \u001b[0;36m<module>\u001b[0;34m()\u001b[0m\n\u001b[0;32m----> 1\u001b[0;31m \u001b[0mstart\u001b[0m \u001b[0;34m=\u001b[0m \u001b[0mdatetime\u001b[0m\u001b[0;34m.\u001b[0m\u001b[0mnow\u001b[0m\u001b[0;34m(\u001b[0m\u001b[0;34m)\u001b[0m\u001b[0;34m\u001b[0m\u001b[0;34m\u001b[0m\u001b[0m\n\u001b[0m\u001b[1;32m      2\u001b[0m \u001b[0;34m\u001b[0m\u001b[0m\n\u001b[1;32m      3\u001b[0m \u001b[0mmatrixPath\u001b[0m \u001b[0;34m=\u001b[0m \u001b[0;34mr'./od_time.xlsx'\u001b[0m\u001b[0;34m\u001b[0m\u001b[0;34m\u001b[0m\u001b[0m\n\u001b[1;32m      4\u001b[0m \u001b[0mtripPath\u001b[0m \u001b[0;34m=\u001b[0m \u001b[0;34mr'./trip_list.xlsx'\u001b[0m\u001b[0;34m\u001b[0m\u001b[0;34m\u001b[0m\u001b[0m\n\u001b[1;32m      5\u001b[0m \u001b[0mtripData\u001b[0m \u001b[0;34m=\u001b[0m \u001b[0mpd\u001b[0m\u001b[0;34m.\u001b[0m\u001b[0mread_excel\u001b[0m\u001b[0;34m(\u001b[0m\u001b[0mtripPath\u001b[0m\u001b[0;34m)\u001b[0m\u001b[0;34m\u001b[0m\u001b[0;34m\u001b[0m\u001b[0m\n",
      "\u001b[0;31mNameError\u001b[0m: name 'datetime' is not defined"
     ]
    }
   ],
   "source": [
    "start = datetime.now()\n",
    "\n",
    "matrixPath = r'./od_time.xlsx'\n",
    "tripPath = r'./trip_list.xlsx'\n",
    "tripData = pd.read_excel(tripPath)\n",
    "tripData = tripData.set_index('trip_rowid')\n",
    "distanceMatrix = pd.read_excel(matrixPath)\n",
    "distanceMatrix = distanceMatrix.sort_values(by = 'time')\n",
    "distanceMatrix = distanceMatrix.sort_values(by = 'o')\n",
    "distanceMatrix = distanceMatrix.set_index(list(distanceMatrix.columns[:2]))\n",
    "distanceMatrixDict = distanceMatrix.to_dict(orient='index')"
   ]
  },
  {
   "cell_type": "code",
   "execution_count": null,
   "metadata": {},
   "outputs": [
    {
     "name": "stdout",
     "output_type": "stream",
     "text": [
      "========================================\n",
      "Data Preprocessing Finished in: 12.27 s\n"
     ]
    }
   ],
   "source": [
    "interval = 86400\n",
    "tripdata = tripData[tripData['otime'] < interval*(0+1)]\n",
    "tripdata = tripdata[interval*0 < tripdata['otime']]\n",
    "print('=='*20)\n",
    "pre = datetime.now()\n",
    "print('Data Preprocessing Finished in: %.2f s' % (pre-start).total_seconds())"
   ]
  },
  {
   "cell_type": "code",
   "execution_count": null,
   "metadata": {
    "scrolled": false
   },
   "outputs": [
    {
     "name": "stdout",
     "output_type": "stream",
     "text": [
      "========================================\n",
      "Trip List Generated in: 7.25 s\n"
     ]
    }
   ],
   "source": [
    "trip_list = generateTripList(tripData)\n",
    "print('=='*20)\n",
    "tripTime = datetime.now()\n",
    "print('Trip List Generated in: %.2f s' % (tripTime-pre).total_seconds())"
   ]
  },
  {
   "cell_type": "code",
   "execution_count": null,
   "metadata": {
    "scrolled": true
   },
   "outputs": [
    {
     "name": "stdout",
     "output_type": "stream",
     "text": [
      "========================================\n",
      "Trip Edge List Generated in: 3209.32 s\n"
     ]
    }
   ],
   "source": [
    "trip_edge_list = generateTripEdgeList(trip_list)\n",
    "print('=='*20)\n",
    "edgeTime = datetime.now()\n",
    "print('Trip Edge List Generated in: %.2f s' % (edgeTime-tripTime).total_seconds())"
   ]
  },
  {
   "cell_type": "code",
   "execution_count": null,
   "metadata": {
    "scrolled": true
   },
   "outputs": [
    {
     "name": "stdout",
     "output_type": "stream",
     "text": [
      "========================================\n",
      "Trip Graph Initialized in: 4.21 s\n"
     ]
    }
   ],
   "source": [
    "trip_graph = TripGraph(trip_edge_list)\n",
    "graphTime = datetime.now()\n",
    "print('=='*20)\n",
    "print('Trip Graph Initialized in: %.2f s' % (graphTime-edgeTime).total_seconds())\n",
    "(num_matches, matching) = trip_graph.maxMatching()\n",
    "minFleeting = trip_graph.minFleeting()\n",
    "print('=='*20)\n",
    "print('The Optimal Result Found is: %d' % minFleeting)\n",
    "end = datetime.now()\n",
    "print('=='*20)\n",
    "print('The Time Spent was: %.2f s' % (end-start).total_seconds())"
   ]
  },
  {
   "cell_type": "code",
   "execution_count": null,
   "metadata": {},
   "outputs": [],
   "source": [
    "len(trip_graph.g.nodes),len(trip_graph.g.edges)"
   ]
  },
  {
   "cell_type": "code",
   "execution_count": null,
   "metadata": {},
   "outputs": [],
   "source": [
    "len(tripData), len(trip_list)"
   ]
  },
  {
   "cell_type": "code",
   "execution_count": null,
   "metadata": {},
   "outputs": [],
   "source": [
    "matches"
   ]
  },
  {
   "cell_type": "code",
   "execution_count": null,
   "metadata": {},
   "outputs": [],
   "source": [
    "nx.write_graphml(trip_graph.g,'./trip_graph.graphml')"
   ]
  },
  {
   "cell_type": "code",
   "execution_count": null,
   "metadata": {},
   "outputs": [],
   "source": []
  },
  {
   "cell_type": "code",
   "execution_count": null,
   "metadata": {},
   "outputs": [],
   "source": [
    "distanceMatrix['time'].describe()"
   ]
  },
  {
   "cell_type": "code",
   "execution_count": null,
   "metadata": {},
   "outputs": [],
   "source": [
    "len(trip_edge_list)"
   ]
  },
  {
   "cell_type": "code",
   "execution_count": null,
   "metadata": {},
   "outputs": [],
   "source": []
  }
 ],
 "metadata": {
  "kernelspec": {
   "display_name": "Python 3",
   "language": "python",
   "name": "python3"
  },
  "language_info": {
   "codemirror_mode": {
    "name": "ipython",
    "version": 3
   },
   "file_extension": ".py",
   "mimetype": "text/x-python",
   "name": "python",
   "nbconvert_exporter": "python",
   "pygments_lexer": "ipython3",
   "version": "3.7.3"
  }
 },
 "nbformat": 4,
 "nbformat_minor": 2
}
