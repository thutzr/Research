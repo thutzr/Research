{
 "cells": [
  {
   "cell_type": "code",
   "execution_count": 1,
   "metadata": {},
   "outputs": [],
   "source": [
    "import numpy as np\n",
    "import pandas as pd\n",
    "from datetime import datetime\n",
    "\n",
    "import networkx as nx\n",
    "from networkx import algorithms\n",
    "import multiprocessing"
   ]
  },
  {
   "cell_type": "code",
   "execution_count": 55,
   "metadata": {},
   "outputs": [],
   "source": [
    "class Node():\n",
    "    def __init__(self, inter,ID):\n",
    "        self.inter = inter\n",
    "        self.id = ID\n",
    "\n",
    "class Path():\n",
    "    def __init__(self, nodelist):\n",
    "        self.nodeList = nodelist\n",
    "        self.len = len(nodelist)\n",
    "    \n",
    "    def append(self, node):\n",
    "        self.nodeList.append(node)\n",
    "        self.len += 1\n",
    "    \n",
    "    def travelTimePath(self):\n",
    "        t = 0\n",
    "        for i in range(self.len-1):\n",
    "            t += travelTime(self.nodeList[i], self.nodeList[i+1])\n",
    "        return t\n",
    "        \n",
    "class Trip():\n",
    "    def __init__(self, oneTripData):\n",
    "        self.node_o = Node(oneTripData['ointer'], str(oneTripData.name) + 'o')\n",
    "        self.node_d = Node(oneTripData['dinter'], str(oneTripData.name) + 'd')\n",
    "        self.ointer = self.node_o.inter\n",
    "        self.dinter = self.node_d.inter\n",
    "        self.oTime = oneTripData['otime']\n",
    "        self.dTime = oneTripData['dtime']\n",
    "        self.id = oneTripData.name\n",
    "\n",
    "\n",
    "def travelTime(node_1, node_2):\n",
    "    return distanceMatrixDict[(node_1.inter, node_2.inter)]['time']\n",
    "\n",
    "def isSharable(Trip_1, Trip_2, timePenalty = 600, distancePenalty = 1, coveragePenalty = 1):\n",
    "    if (Trip_1.oTime > Trip_2.oTime):\n",
    "        trip_1 = Trip_2\n",
    "        trip_2 = Trip_1\n",
    "    else:\n",
    "        trip_1 = Trip_1\n",
    "        trip_2 = Trip_2\n",
    "    # case 1\n",
    "    if (trip_1.dTime > trip_2.dTime):\n",
    "        if(trip_1.oTime + travelTime(trip_1.node_o, trip_2.node_o) < trip_2.oTime):\n",
    "            path1 = Path([trip_1.node_o, trip_2.node_o, trip_2.node_d, trip_1.node_d])\n",
    "            if(trip_1.dTime-timePenalty < trip_1.oTime+path1.travelTimePath() < trip_1.dTime):\n",
    "                path2 = Path([trip_1.node_o, trip_2.node_o, trip_2.node_d])\n",
    "                if(trip_1.dTime-timePenalty < trip_1.oTime+path2.travelTimePath() < trip_1.dTime):\n",
    "                    if(path1.travelTimePath() < distancePenalty*travelTime(trip_1.node_o, trip_1.node_d)):\n",
    "                        return True\n",
    "                    else:\n",
    "                        return False\n",
    "                else:\n",
    "                    return False\n",
    "            else:\n",
    "                return False\n",
    "        else:\n",
    "            return False\n",
    "    else:\n",
    "        if (trip_2.oTime < trip_1.dTime < trip_2.dTime):\n",
    "            if(trip_1.oTime + travelTime(trip_1.node_o, trip_2.node_o) < trip_2.oTime):\n",
    "                path1 = Path([trip_1.node_o, trip_2.node_o, trip_1.node_d])\n",
    "                if(trip_1.dTime-timePenalty < trip_1.oTime+path1.travelTimePath() < trip_1.dTime):\n",
    "                    path2 = Path([trip_1.node_o, trip_2.node_o, trip_1.node_d, trip_2.node_d])\n",
    "                    if(trip_2.dTime-timePenalty < trip_1.oTime+path2.travelTimePath() < trip_2.dTime):\n",
    "                        if(path1.travelTimePath() < distancePenalty*travelTime(trip_1.node_o, trip_1.node_d)):\n",
    "                            path3 = Path([trip_2.node_o, trip_1.node_d, trip_2.node_d])\n",
    "                            if(path3.travelTimePath() < distancePenalty*travelTime(trip_2.node_o, trip_2.node_d)):\n",
    "                                if(travelTime(trip_1.node_o, trip_2.node_o) < coveragePenalty*travelTime(trip_1.node_o, trip_1.node_d)):\n",
    "                                    return True\n",
    "                            else:\n",
    "                                return False\n",
    "                        else:\n",
    "                            return False\n",
    "                    else:\n",
    "                        return False\n",
    "                else:\n",
    "                    return False\n",
    "            else:\n",
    "                return False\n",
    "        else:\n",
    "            return False\n",
    "    return False\n",
    "\n",
    "class TripEdge():\n",
    "    def __init__(self, pre_node, suc_node, weight):\n",
    "        self.node_1 = pre_node\n",
    "        self.node_2 = suc_node\n",
    "        self.w = weight\n",
    "        self.edge = (self.node_1, self.node_2, self.w)\n",
    "        \n",
    "def addTrip(i, tripData):\n",
    "    trip_list = [Trip(tripData.iloc[i])]\n",
    "    return trip_list\n",
    "    \n",
    "def generateTripList(tripData):\n",
    "    cores = multiprocessing.cpu_count()\n",
    "    pool = multiprocessing.Pool(processes = cores-2)\n",
    "    trip_list = []\n",
    "    for trips in pool.starmap(addTrip, zip(range(len(tripData)), [tripData]*len(tripData))):\n",
    "        trip_list += trips\n",
    "    pool.close()\n",
    "    return trip_list\n",
    "\n",
    "def addEdge(i,trip_list, max_edge = 10):\n",
    "    trip_edges = []\n",
    "    cnt = 0\n",
    "    for j in range(i+1, len(trip_list)):\n",
    "        if isSharable(trip_list[i], trip_list[j]):\n",
    "            weight = 1\n",
    "            if trip_list[i].oTime > trip_list[j].oTime:\n",
    "                trip_edges.append((trip_list[j].node_o.id,trip_list[i].node_d.id))\n",
    "            else:\n",
    "                trip_edges.append((trip_list[i].node_o.id,trip_list[j].node_d.id))\n",
    "            cnt += 1\n",
    "        if cnt == max_edge:\n",
    "            break\n",
    "    return trip_edges\n",
    "\n",
    "def generateTripEdgeList(trip_list):\n",
    "    cores = multiprocessing.cpu_count()\n",
    "    pool = multiprocessing.Pool(processes = cores-2)\n",
    "    trip_edge_list = []\n",
    "    for trip_edge in pool.starmap(addEdge,zip(range(len(trip_list)-1),[trip_list]*(len(trip_list)-1))):\n",
    "        trip_edge_list += trip_edge\n",
    "    pool.close()\n",
    "    return trip_edge_list\n",
    "                \n",
    "class TripGraph():\n",
    "    def __init__(self, trip_edge_list, trip_list):\n",
    "        self.trip_edge_list = trip_edge_list\n",
    "        self.num_trips = len(trip_list)\n",
    "        self.g = nx.Graph()\n",
    "        self.g.add_nodes_from([trip.node_d.id for trip in trip_list])\n",
    "        self.g.add_nodes_from([trip.node_o.id for trip in trip_list])\n",
    "        self.g.add_edges_from(self.trip_edge_list,weight=1)\n",
    "        \n",
    "        \n",
    "    def addTripEdge(self, trip_edge):\n",
    "        self.trip_edge_list.append(trip_edge)\n",
    "        self.num_trips += 1\n",
    "\n",
    "    def maxMatching(self):\n",
    "        graphs = list(nx.connected_component_subgraphs(self.g))\n",
    "        self.matches = {}\n",
    "        for graph in graphs:\n",
    "            self.matches.update(algorithms.matching.max_weight_matching(graph))\n",
    "        self.number_match = len(self.matches)\n",
    "        return (self.number_match, self.matches)\n",
    "    \n",
    "    def minFleeting(self):\n",
    "        self.minFleet = self.num_trips - self.number_match/2\n",
    "        return self.minFleet"
   ]
  },
  {
   "cell_type": "code",
   "execution_count": 39,
   "metadata": {},
   "outputs": [],
   "source": [
    "start = datetime.now()\n",
    "\n",
    "matrixPath = r'./od_time.xlsx'\n",
    "tripPath = r'./trip_list.xlsx'\n",
    "tripData = pd.read_excel(tripPath)\n",
    "tripData = tripData.set_index('trip_rowid')\n",
    "distanceMatrix = pd.read_excel(matrixPath)\n",
    "distanceMatrix = distanceMatrix.sort_values(by = 'time')\n",
    "distanceMatrix = distanceMatrix.sort_values(by = 'o')\n",
    "distanceMatrix = distanceMatrix.set_index(list(distanceMatrix.columns[:2]))\n",
    "distanceMatrixDict = distanceMatrix.to_dict(orient='index')"
   ]
  },
  {
   "cell_type": "code",
   "execution_count": 66,
   "metadata": {
    "scrolled": true
   },
   "outputs": [
    {
     "name": "stdout",
     "output_type": "stream",
     "text": [
      "========================================\n",
      "Data Preprocessing Finished in: 4471.79 s\n",
      "========================================\n",
      "Trip List Generated in: 8.48 s\n",
      "========================================\n",
      "Trip Edge List Generated in: 3486.40 s\n",
      "========================================\n",
      "Trip Graph Initialized in: 1.86 s\n",
      "========================================\n",
      "The Optimal Result Found is: 309077\n",
      "========================================\n",
      "The Time Spent was: 16665.67 s\n"
     ]
    }
   ],
   "source": [
    "interval = 6000\n",
    "minimumFleeting = 0\n",
    "# for i in range(int(86400/interval)):\n",
    "tripdata = tripData[tripData['otime'] < interval*(0+1)]\n",
    "tripdata = tripdata[interval*0 < tripdata['otime']]\n",
    "print('=='*20)\n",
    "pre = datetime.now()\n",
    "print('Data Preprocessing Finished in: %.2f s' % (pre-start).total_seconds())\n",
    "trip_list = generateTripList(tripData)\n",
    "print('=='*20)\n",
    "tripTime = datetime.now()\n",
    "print('Trip List Generated in: %.2f s' % (tripTime-pre).total_seconds())\n",
    "trip_edge_list = generateTripEdgeList(trip_list)\n",
    "print('=='*20)\n",
    "edgeTime = datetime.now()\n",
    "print('Trip Edge List Generated in: %.2f s' % (edgeTime-tripTime).total_seconds())\n",
    "trip_graph = TripGraph(trip_edge_list, trip_list)\n",
    "graphTime = datetime.now()\n",
    "print('=='*20)\n",
    "print('Trip Graph Initialized in: %.2f s' % (graphTime-edgeTime).total_seconds())\n",
    "(num_matches, matching) = trip_graph.maxMatching()\n",
    "minFleeting = trip_graph.minFleeting()\n",
    "minimumFleeting += minFleeting\n",
    "print('=='*20)\n",
    "print('The Optimal Result Found is: %d' % minFleeting)\n",
    "end = datetime.now()\n",
    "print('=='*20)\n",
    "print('The Time Spent was: %.2f s' % (end-start).total_seconds())"
   ]
  },
  {
   "cell_type": "code",
   "execution_count": 67,
   "metadata": {},
   "outputs": [
    {
     "data": {
      "text/plain": [
       "309077.5"
      ]
     },
     "execution_count": 67,
     "metadata": {},
     "output_type": "execute_result"
    }
   ],
   "source": [
    "minimumFleeting"
   ]
  },
  {
   "cell_type": "code",
   "execution_count": 68,
   "metadata": {},
   "outputs": [
    {
     "data": {
      "text/plain": [
       "38003"
      ]
     },
     "execution_count": 68,
     "metadata": {},
     "output_type": "execute_result"
    }
   ],
   "source": [
    "num_matches"
   ]
  },
  {
   "cell_type": "code",
   "execution_count": 71,
   "metadata": {},
   "outputs": [],
   "source": [
    "%load_ext line_profiler"
   ]
  },
  {
   "cell_type": "code",
   "execution_count": null,
   "metadata": {},
   "outputs": [],
   "source": [
    "%lprun -f generateTripEdgeList generateTripEdgeList(trip_list)"
   ]
  },
  {
   "cell_type": "code",
   "execution_count": 50,
   "metadata": {},
   "outputs": [
    {
     "data": {
      "text/plain": [
       "31"
      ]
     },
     "execution_count": 50,
     "metadata": {},
     "output_type": "execute_result"
    }
   ],
   "source": []
  },
  {
   "cell_type": "code",
   "execution_count": 14,
   "metadata": {},
   "outputs": [],
   "source": [
    "trip_graph.g.add_nodes_from([trip.node_d for trip in trip_list])"
   ]
  },
  {
   "cell_type": "code",
   "execution_count": 15,
   "metadata": {},
   "outputs": [],
   "source": [
    "trip_graph.g.add_nodes_from([trip.node_o for trip in trip_list])"
   ]
  },
  {
   "cell_type": "code",
   "execution_count": 16,
   "metadata": {},
   "outputs": [
    {
     "data": {
      "text/plain": [
       "1078447"
      ]
     },
     "execution_count": 16,
     "metadata": {},
     "output_type": "execute_result"
    }
   ],
   "source": [
    "len(trip_graph.g.nodes)"
   ]
  },
  {
   "cell_type": "code",
   "execution_count": 20,
   "metadata": {},
   "outputs": [],
   "source": [
    "a = [match.id for match in matching.keys()]\n",
    "b = [match.id for match in matching.values()]"
   ]
  },
  {
   "cell_type": "code",
   "execution_count": 27,
   "metadata": {},
   "outputs": [
    {
     "data": {
      "text/plain": [
       "0.6768948942175512"
      ]
     },
     "execution_count": 27,
     "metadata": {},
     "output_type": "execute_result"
    }
   ],
   "source": [
    "(212008/2 + (328079-212008))/328079"
   ]
  },
  {
   "cell_type": "code",
   "execution_count": null,
   "metadata": {},
   "outputs": [],
   "source": []
  }
 ],
 "metadata": {
  "kernelspec": {
   "display_name": "Python 3",
   "language": "python",
   "name": "python3"
  },
  "language_info": {
   "codemirror_mode": {
    "name": "ipython",
    "version": 3
   },
   "file_extension": ".py",
   "mimetype": "text/x-python",
   "name": "python",
   "nbconvert_exporter": "python",
   "pygments_lexer": "ipython3",
   "version": "3.7.3"
  }
 },
 "nbformat": 4,
 "nbformat_minor": 2
}
